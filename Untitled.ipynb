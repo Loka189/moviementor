{
 "cells": [
  {
   "cell_type": "markdown",
   "id": "f4b76c66",
   "metadata": {},
   "source": [
    "## What did i do?"
   ]
  },
  {
   "cell_type": "code",
   "execution_count": 1,
   "id": "9e665e56",
   "metadata": {},
   "outputs": [],
   "source": [
    "# If there is a situation like i need to convert \"[1,2,3,4]\" to [1,2,3,4]\n",
    "# USE ast module"
   ]
  },
  {
   "cell_type": "code",
   "execution_count": 2,
   "id": "24cd94bb",
   "metadata": {},
   "outputs": [],
   "source": [
    "x='[1,2,3,4]'"
   ]
  },
  {
   "cell_type": "code",
   "execution_count": 3,
   "id": "12e71b1f",
   "metadata": {},
   "outputs": [
    {
     "data": {
      "text/plain": [
       "str"
      ]
     },
     "execution_count": 3,
     "metadata": {},
     "output_type": "execute_result"
    }
   ],
   "source": [
    "type(x)"
   ]
  },
  {
   "cell_type": "code",
   "execution_count": 6,
   "id": "b2c72069",
   "metadata": {},
   "outputs": [],
   "source": [
    "import ast\n",
    "change=(lambda y:ast.literal_eval(y))"
   ]
  },
  {
   "cell_type": "code",
   "execution_count": 7,
   "id": "3f32e669",
   "metadata": {},
   "outputs": [
    {
     "data": {
      "text/plain": [
       "list"
      ]
     },
     "execution_count": 7,
     "metadata": {},
     "output_type": "execute_result"
    }
   ],
   "source": [
    "x=change(x)\n",
    "type(x)"
   ]
  },
  {
   "cell_type": "code",
   "execution_count": 8,
   "id": "9aaa9213",
   "metadata": {},
   "outputs": [],
   "source": [
    "# How to remove stop word from a sentence"
   ]
  },
  {
   "cell_type": "code",
   "execution_count": 9,
   "id": "b571a387",
   "metadata": {},
   "outputs": [],
   "source": [
    "import nltk\n",
    "from nltk.corpus import stopwords\n",
    "from nltk.tokenize import word_tokenize"
   ]
  },
  {
   "cell_type": "code",
   "execution_count": 10,
   "id": "7b272743",
   "metadata": {},
   "outputs": [],
   "source": [
    "text=\"The warning message you provided is related to modifying a DataFrame using indexing.\""
   ]
  },
  {
   "cell_type": "code",
   "execution_count": 11,
   "id": "08254c81",
   "metadata": {},
   "outputs": [],
   "source": [
    "sw=set(stopwords.words('english'))\n",
    "wt=word_tokenize(text)"
   ]
  },
  {
   "cell_type": "code",
   "execution_count": 12,
   "id": "61ec34e6",
   "metadata": {},
   "outputs": [
    {
     "data": {
      "text/plain": [
       "['The',\n",
       " 'warning',\n",
       " 'message',\n",
       " 'you',\n",
       " 'provided',\n",
       " 'is',\n",
       " 'related',\n",
       " 'to',\n",
       " 'modifying',\n",
       " 'a',\n",
       " 'DataFrame',\n",
       " 'using',\n",
       " 'indexing',\n",
       " '.']"
      ]
     },
     "execution_count": 12,
     "metadata": {},
     "output_type": "execute_result"
    }
   ],
   "source": [
    "wt"
   ]
  },
  {
   "cell_type": "code",
   "execution_count": 13,
   "id": "6e15ba9a",
   "metadata": {},
   "outputs": [
    {
     "data": {
      "text/plain": [
       "['warning',\n",
       " 'message',\n",
       " 'provided',\n",
       " 'related',\n",
       " 'modifying',\n",
       " 'DataFrame',\n",
       " 'using',\n",
       " 'indexing',\n",
       " '.']"
      ]
     },
     "execution_count": 13,
     "metadata": {},
     "output_type": "execute_result"
    }
   ],
   "source": [
    "filtered_words=[word for word in wt if not word.lower() in sw]\n",
    "filtered_words"
   ]
  },
  {
   "cell_type": "code",
   "execution_count": 14,
   "id": "b5f99bdf",
   "metadata": {},
   "outputs": [
    {
     "data": {
      "text/plain": [
       "'warning message provided related modifying DataFrame using indexing .'"
      ]
     },
     "execution_count": 14,
     "metadata": {},
     "output_type": "execute_result"
    }
   ],
   "source": [
    "new_text=' '.join(filtered_words)\n",
    "new_text"
   ]
  },
  {
   "cell_type": "code",
   "execution_count": 15,
   "id": "9fb9cdce",
   "metadata": {},
   "outputs": [],
   "source": [
    "# Handleing words with same meaning\n",
    "# ['loved','loving'] to ['love','love']"
   ]
  },
  {
   "cell_type": "code",
   "execution_count": 16,
   "id": "d31c9772",
   "metadata": {},
   "outputs": [],
   "source": [
    "from nltk.stem.porter import PorterStemmer"
   ]
  },
  {
   "cell_type": "code",
   "execution_count": 17,
   "id": "2426a244",
   "metadata": {},
   "outputs": [
    {
     "data": {
      "text/plain": [
       "'love'"
      ]
     },
     "execution_count": 17,
     "metadata": {},
     "output_type": "execute_result"
    }
   ],
   "source": [
    "ps=PorterStemmer()\n",
    "ps.stem('loved')"
   ]
  },
  {
   "cell_type": "code",
   "execution_count": 18,
   "id": "feede8be",
   "metadata": {},
   "outputs": [
    {
     "data": {
      "text/plain": [
       "['go', 'goe', 'gone', 'go', 'went']"
      ]
     },
     "execution_count": 18,
     "metadata": {},
     "output_type": "execute_result"
    }
   ],
   "source": [
    "x=['go','goes','gone','going','went']\n",
    "y=[ps.stem(word) for word in x]\n",
    "y"
   ]
  },
  {
   "cell_type": "code",
   "execution_count": 20,
   "id": "3227ac4a",
   "metadata": {},
   "outputs": [],
   "source": [
    "import numpy as np\n",
    "import pandas as pd"
   ]
  },
  {
   "cell_type": "code",
   "execution_count": 21,
   "id": "2d8427aa",
   "metadata": {},
   "outputs": [],
   "source": [
    "x={'tags':['Attack on Titan, created by Hajime Isayama, is a gripping anime set in a world besieged by enormous humanoid creatures known as Titans, which have forced humanity to live within massive walled cities for protection.','Death Note is an anime that follows a high school student named Light Yagami who discovers a supernatural notebook.','To check the list of stopwords you can type the following commands in the python shell.']}\n",
    "df=pd.DataFrame(x)"
   ]
  },
  {
   "cell_type": "code",
   "execution_count": 22,
   "id": "887b33c5",
   "metadata": {},
   "outputs": [
    {
     "data": {
      "text/html": [
       "<div>\n",
       "<style scoped>\n",
       "    .dataframe tbody tr th:only-of-type {\n",
       "        vertical-align: middle;\n",
       "    }\n",
       "\n",
       "    .dataframe tbody tr th {\n",
       "        vertical-align: top;\n",
       "    }\n",
       "\n",
       "    .dataframe thead th {\n",
       "        text-align: right;\n",
       "    }\n",
       "</style>\n",
       "<table border=\"1\" class=\"dataframe\">\n",
       "  <thead>\n",
       "    <tr style=\"text-align: right;\">\n",
       "      <th></th>\n",
       "      <th>tags</th>\n",
       "    </tr>\n",
       "  </thead>\n",
       "  <tbody>\n",
       "    <tr>\n",
       "      <th>0</th>\n",
       "      <td>Attack on Titan, created by Hajime Isayama, is...</td>\n",
       "    </tr>\n",
       "    <tr>\n",
       "      <th>1</th>\n",
       "      <td>Death Note is an anime that follows a high sch...</td>\n",
       "    </tr>\n",
       "    <tr>\n",
       "      <th>2</th>\n",
       "      <td>To check the list of stopwords you can type th...</td>\n",
       "    </tr>\n",
       "  </tbody>\n",
       "</table>\n",
       "</div>"
      ],
      "text/plain": [
       "                                                tags\n",
       "0  Attack on Titan, created by Hajime Isayama, is...\n",
       "1  Death Note is an anime that follows a high sch...\n",
       "2  To check the list of stopwords you can type th..."
      ]
     },
     "execution_count": 22,
     "metadata": {},
     "output_type": "execute_result"
    }
   ],
   "source": [
    "df"
   ]
  },
  {
   "cell_type": "code",
   "execution_count": 26,
   "id": "f102ac7d",
   "metadata": {},
   "outputs": [],
   "source": [
    "stop_words=set(stopwords.words('english'))"
   ]
  },
  {
   "cell_type": "code",
   "execution_count": 31,
   "id": "9ca45a92",
   "metadata": {},
   "outputs": [],
   "source": [
    "def removeSTOPWORDSandSimilarWords(obj):\n",
    "    word_tokens=word_tokenize(obj)\n",
    "    filtered_words=[w for w in word_tokens if not w.lower() in stop_words]\n",
    "    fl_w_with_removeOFS=[ps.stem(w) for w in filtered_words]\n",
    "    return ' '.join(fl_w_with_removeOFS)"
   ]
  },
  {
   "cell_type": "code",
   "execution_count": 34,
   "id": "24353fe6",
   "metadata": {},
   "outputs": [
    {
     "data": {
      "text/plain": [
       "'attack titan , creat hajim isayama , grip anim set world besieg enorm humanoid creatur known titan , forc human live within massiv wall citi protect .'"
      ]
     },
     "execution_count": 34,
     "metadata": {},
     "output_type": "execute_result"
    }
   ],
   "source": [
    "df['tags']=df['tags'].apply(removeSTOPWORDSandSimilarWords)\n",
    "df['tags'][0]"
   ]
  },
  {
   "cell_type": "code",
   "execution_count": 35,
   "id": "9695e742",
   "metadata": {},
   "outputs": [],
   "source": [
    "# Text Vectorization"
   ]
  },
  {
   "cell_type": "code",
   "execution_count": 36,
   "id": "1c2ec02e",
   "metadata": {},
   "outputs": [],
   "source": [
    "sent1 = \"Attack on Titan, created by Hajime Isayama, is a gripping anime set in a world besieged by enormous humanoid creatures known as Titans, which have forced humanity to live within massive walled cities for protection.\"\n",
    "\n",
    "sent2 = \"Death Note is an anime that follows a high school student named Light Yagami who discovers a supernatural notebook.\"\n"
   ]
  },
  {
   "cell_type": "code",
   "execution_count": 37,
   "id": "a50fa96a",
   "metadata": {},
   "outputs": [],
   "source": [
    "import sklearn\n",
    "from sklearn.feature_extraction.text import CountVectorizer"
   ]
  },
  {
   "cell_type": "code",
   "execution_count": 45,
   "id": "dff68548",
   "metadata": {},
   "outputs": [],
   "source": [
    "cv=CountVectorizer(max_features=50,stop_words='english')"
   ]
  },
  {
   "cell_type": "code",
   "execution_count": 46,
   "id": "6ac9804e",
   "metadata": {},
   "outputs": [],
   "source": [
    "sentences=[sent1,sent2]"
   ]
  },
  {
   "cell_type": "code",
   "execution_count": 47,
   "id": "8d8d5da2",
   "metadata": {},
   "outputs": [],
   "source": [
    "vectorized_array=cv.fit_transform(sentences).toarray()"
   ]
  },
  {
   "cell_type": "code",
   "execution_count": 48,
   "id": "228566e4",
   "metadata": {},
   "outputs": [
    {
     "data": {
      "text/plain": [
       "array([[1, 1, 1, 1, 1, 1, 0, 0, 1, 0, 1, 1, 1, 0, 1, 1, 1, 1, 0, 1, 1, 0,\n",
       "        0, 0, 1, 0, 1, 0, 0, 1, 1, 1, 1, 0],\n",
       "       [1, 0, 0, 0, 0, 0, 1, 1, 0, 1, 0, 0, 0, 1, 0, 0, 0, 0, 1, 0, 0, 1,\n",
       "        1, 1, 0, 1, 0, 1, 1, 0, 0, 0, 0, 1]], dtype=int64)"
      ]
     },
     "execution_count": 48,
     "metadata": {},
     "output_type": "execute_result"
    }
   ],
   "source": [
    "vectorized_array"
   ]
  },
  {
   "cell_type": "code",
   "execution_count": 54,
   "id": "2c3b3a38",
   "metadata": {},
   "outputs": [],
   "source": [
    "feature_names = cv.get_feature_names_out()"
   ]
  },
  {
   "cell_type": "code",
   "execution_count": 55,
   "id": "fc5c0345",
   "metadata": {},
   "outputs": [
    {
     "data": {
      "text/plain": [
       "array(['anime', 'attack', 'besieged', 'cities', 'created', 'creatures',\n",
       "       'death', 'discovers', 'enormous', 'follows', 'forced', 'gripping',\n",
       "       'hajime', 'high', 'humanity', 'humanoid', 'isayama', 'known',\n",
       "       'light', 'live', 'massive', 'named', 'note', 'notebook',\n",
       "       'protection', 'school', 'set', 'student', 'supernatural', 'titan',\n",
       "       'titans', 'walled', 'world', 'yagami'], dtype=object)"
      ]
     },
     "execution_count": 55,
     "metadata": {},
     "output_type": "execute_result"
    }
   ],
   "source": [
    "feature_names"
   ]
  },
  {
   "cell_type": "code",
   "execution_count": 68,
   "id": "420cb626",
   "metadata": {},
   "outputs": [
    {
     "data": {
      "text/plain": [
       "(34,)"
      ]
     },
     "execution_count": 68,
     "metadata": {},
     "output_type": "execute_result"
    }
   ],
   "source": [
    "feature_names.shape"
   ]
  },
  {
   "cell_type": "code",
   "execution_count": 56,
   "id": "2c6990b0",
   "metadata": {},
   "outputs": [
    {
     "data": {
      "text/plain": [
       "array([1, 1, 1, 1, 1, 1, 0, 0, 1, 0, 1, 1, 1, 0, 1, 1, 1, 1, 0, 1, 1, 0,\n",
       "       0, 0, 1, 0, 1, 0, 0, 1, 1, 1, 1, 0], dtype=int64)"
      ]
     },
     "execution_count": 56,
     "metadata": {},
     "output_type": "execute_result"
    }
   ],
   "source": [
    "vectorized_array[0]"
   ]
  },
  {
   "cell_type": "code",
   "execution_count": 57,
   "id": "c061f10e",
   "metadata": {},
   "outputs": [
    {
     "data": {
      "text/plain": [
       "array([1, 0, 0, 0, 0, 0, 1, 1, 0, 1, 0, 0, 0, 1, 0, 0, 0, 0, 1, 0, 0, 1,\n",
       "       1, 1, 0, 1, 0, 1, 1, 0, 0, 0, 0, 1], dtype=int64)"
      ]
     },
     "execution_count": 57,
     "metadata": {},
     "output_type": "execute_result"
    }
   ],
   "source": [
    "vectorized_array[1]"
   ]
  },
  {
   "cell_type": "code",
   "execution_count": 58,
   "id": "675f323b",
   "metadata": {},
   "outputs": [],
   "source": [
    "# Apply removing similarwords like titan,titans"
   ]
  },
  {
   "cell_type": "code",
   "execution_count": 59,
   "id": "b44cfc6d",
   "metadata": {},
   "outputs": [],
   "source": [
    "def remove(obj):\n",
    "    wt=word_tokenize(obj)\n",
    "    fs=[ps.stem(w) for w in wt]\n",
    "    return ' '.join(fs)"
   ]
  },
  {
   "cell_type": "code",
   "execution_count": 60,
   "id": "4e89935d",
   "metadata": {},
   "outputs": [],
   "source": [
    "sent1=remove(sent1)\n",
    "sent2=remove(sent2)"
   ]
  },
  {
   "cell_type": "code",
   "execution_count": 61,
   "id": "b387721f",
   "metadata": {},
   "outputs": [
    {
     "data": {
      "text/plain": [
       "'attack on titan , creat by hajim isayama , is a grip anim set in a world besieg by enorm humanoid creatur known as titan , which have forc human to live within massiv wall citi for protect .'"
      ]
     },
     "execution_count": 61,
     "metadata": {},
     "output_type": "execute_result"
    }
   ],
   "source": [
    "sent1"
   ]
  },
  {
   "cell_type": "code",
   "execution_count": 62,
   "id": "7956bb24",
   "metadata": {},
   "outputs": [],
   "source": [
    "new_s=[sent1,sent2]"
   ]
  },
  {
   "cell_type": "code",
   "execution_count": 64,
   "id": "c7c209cf",
   "metadata": {},
   "outputs": [],
   "source": [
    "new_v=cv.fit_transform(new_s).toarray()"
   ]
  },
  {
   "cell_type": "code",
   "execution_count": 73,
   "id": "c1a2d4dc",
   "metadata": {},
   "outputs": [
    {
     "data": {
      "text/plain": [
       "array([[1, 1, 1, 1, 1, 1, 0, 0, 1, 0, 1, 1, 1, 0, 1, 1, 1, 1, 0, 1, 1, 0,\n",
       "        0, 1, 0, 1, 0, 0, 2, 1, 1, 0],\n",
       "       [1, 0, 0, 0, 0, 0, 1, 1, 0, 1, 0, 0, 0, 1, 0, 0, 0, 0, 1, 0, 0, 1,\n",
       "        1, 0, 1, 0, 1, 1, 0, 0, 0, 1]], dtype=int64)"
      ]
     },
     "execution_count": 73,
     "metadata": {},
     "output_type": "execute_result"
    }
   ],
   "source": [
    "new_v"
   ]
  },
  {
   "cell_type": "code",
   "execution_count": 74,
   "id": "7de7daf4",
   "metadata": {},
   "outputs": [
    {
     "data": {
      "text/plain": [
       "(2, 32)"
      ]
     },
     "execution_count": 74,
     "metadata": {},
     "output_type": "execute_result"
    }
   ],
   "source": [
    "new_v.shape"
   ]
  },
  {
   "cell_type": "code",
   "execution_count": 69,
   "id": "6179d130",
   "metadata": {},
   "outputs": [
    {
     "data": {
      "text/plain": [
       "array(['anim', 'attack', 'besieg', 'citi', 'creat', 'creatur', 'death',\n",
       "       'discov', 'enorm', 'follow', 'forc', 'grip', 'hajim', 'high',\n",
       "       'human', 'humanoid', 'isayama', 'known', 'light', 'live', 'massiv',\n",
       "       'note', 'notebook', 'protect', 'school', 'set', 'student',\n",
       "       'supernatur', 'titan', 'wall', 'world', 'yagami'], dtype=object)"
      ]
     },
     "execution_count": 69,
     "metadata": {},
     "output_type": "execute_result"
    }
   ],
   "source": [
    "cv.get_feature_names_out()"
   ]
  },
  {
   "cell_type": "code",
   "execution_count": 75,
   "id": "4ee8a33c",
   "metadata": {},
   "outputs": [
    {
     "data": {
      "text/plain": [
       "array([1, 1, 1, 1, 1, 1, 0, 0, 1, 0, 1, 1, 1, 0, 1, 1, 1, 1, 0, 1, 1, 0,\n",
       "       0, 1, 0, 1, 0, 0, 2, 1, 1, 0], dtype=int64)"
      ]
     },
     "execution_count": 75,
     "metadata": {},
     "output_type": "execute_result"
    }
   ],
   "source": [
    "new_v[0]"
   ]
  },
  {
   "cell_type": "code",
   "execution_count": 76,
   "id": "b81ef0f8",
   "metadata": {},
   "outputs": [
    {
     "data": {
      "text/plain": [
       "(32,)"
      ]
     },
     "execution_count": 76,
     "metadata": {},
     "output_type": "execute_result"
    }
   ],
   "source": [
    "new_v[0].shape"
   ]
  },
  {
   "cell_type": "code",
   "execution_count": 77,
   "id": "e102a176",
   "metadata": {},
   "outputs": [
    {
     "data": {
      "text/plain": [
       "array([1, 0, 0, 0, 0, 0, 1, 1, 0, 1, 0, 0, 0, 1, 0, 0, 0, 0, 1, 0, 0, 1,\n",
       "       1, 0, 1, 0, 1, 1, 0, 0, 0, 1], dtype=int64)"
      ]
     },
     "execution_count": 77,
     "metadata": {},
     "output_type": "execute_result"
    }
   ],
   "source": [
    "new_v[1]"
   ]
  },
  {
   "cell_type": "code",
   "execution_count": 78,
   "id": "91079142",
   "metadata": {},
   "outputs": [],
   "source": [
    "# performing Vectorization on DataFrame"
   ]
  },
  {
   "cell_type": "code",
   "execution_count": 80,
   "id": "b74bc930",
   "metadata": {},
   "outputs": [],
   "source": [
    "x={'tags':['Your reply is generally positive and complimentary, which is good',' However, it might be slightly intense for the context of the conversation','If you want to keep things more lighthearted, you could consider toning down the intensity a bit']}\n",
    "df=pd.DataFrame(x)"
   ]
  },
  {
   "cell_type": "code",
   "execution_count": 81,
   "id": "e431448f",
   "metadata": {},
   "outputs": [
    {
     "data": {
      "text/html": [
       "<div>\n",
       "<style scoped>\n",
       "    .dataframe tbody tr th:only-of-type {\n",
       "        vertical-align: middle;\n",
       "    }\n",
       "\n",
       "    .dataframe tbody tr th {\n",
       "        vertical-align: top;\n",
       "    }\n",
       "\n",
       "    .dataframe thead th {\n",
       "        text-align: right;\n",
       "    }\n",
       "</style>\n",
       "<table border=\"1\" class=\"dataframe\">\n",
       "  <thead>\n",
       "    <tr style=\"text-align: right;\">\n",
       "      <th></th>\n",
       "      <th>tags</th>\n",
       "    </tr>\n",
       "  </thead>\n",
       "  <tbody>\n",
       "    <tr>\n",
       "      <th>0</th>\n",
       "      <td>Your reply is generally positive and complimen...</td>\n",
       "    </tr>\n",
       "    <tr>\n",
       "      <th>1</th>\n",
       "      <td>However, it might be slightly intense for the...</td>\n",
       "    </tr>\n",
       "    <tr>\n",
       "      <th>2</th>\n",
       "      <td>If you want to keep things more lighthearted, ...</td>\n",
       "    </tr>\n",
       "  </tbody>\n",
       "</table>\n",
       "</div>"
      ],
      "text/plain": [
       "                                                tags\n",
       "0  Your reply is generally positive and complimen...\n",
       "1   However, it might be slightly intense for the...\n",
       "2  If you want to keep things more lighthearted, ..."
      ]
     },
     "execution_count": 81,
     "metadata": {},
     "output_type": "execute_result"
    }
   ],
   "source": [
    "df"
   ]
  },
  {
   "cell_type": "code",
   "execution_count": 106,
   "id": "3cfb74a4",
   "metadata": {},
   "outputs": [
    {
     "data": {
      "text/html": [
       "<div>\n",
       "<style scoped>\n",
       "    .dataframe tbody tr th:only-of-type {\n",
       "        vertical-align: middle;\n",
       "    }\n",
       "\n",
       "    .dataframe tbody tr th {\n",
       "        vertical-align: top;\n",
       "    }\n",
       "\n",
       "    .dataframe thead th {\n",
       "        text-align: right;\n",
       "    }\n",
       "</style>\n",
       "<table border=\"1\" class=\"dataframe\">\n",
       "  <thead>\n",
       "    <tr style=\"text-align: right;\">\n",
       "      <th></th>\n",
       "      <th>name</th>\n",
       "      <th>tags</th>\n",
       "    </tr>\n",
       "  </thead>\n",
       "  <tbody>\n",
       "    <tr>\n",
       "      <th>0</th>\n",
       "      <td>sonu</td>\n",
       "      <td>Your reply is generally positive and complimen...</td>\n",
       "    </tr>\n",
       "    <tr>\n",
       "      <th>1</th>\n",
       "      <td>swag</td>\n",
       "      <td>However, it might be slightly intense for the...</td>\n",
       "    </tr>\n",
       "    <tr>\n",
       "      <th>2</th>\n",
       "      <td>sim</td>\n",
       "      <td>If you want to keep things more lighthearted, ...</td>\n",
       "    </tr>\n",
       "  </tbody>\n",
       "</table>\n",
       "</div>"
      ],
      "text/plain": [
       "   name                                               tags\n",
       "0  sonu  Your reply is generally positive and complimen...\n",
       "1  swag   However, it might be slightly intense for the...\n",
       "2   sim  If you want to keep things more lighthearted, ..."
      ]
     },
     "execution_count": 106,
     "metadata": {},
     "output_type": "execute_result"
    }
   ],
   "source": [
    "y={'name':['sonu','swag','sim'],'tags':['Your reply is generally positive and complimentary, which is good',' However, it might be slightly intense for the context of the conversation','If you want to keep things more lighthearted, you could consider toning down the intensity a bit']}\n",
    "\n",
    "new=pd.DataFrame(y)\n",
    "new"
   ]
  },
  {
   "cell_type": "code",
   "execution_count": 107,
   "id": "88128d70",
   "metadata": {},
   "outputs": [
    {
     "data": {
      "text/html": [
       "<div>\n",
       "<style scoped>\n",
       "    .dataframe tbody tr th:only-of-type {\n",
       "        vertical-align: middle;\n",
       "    }\n",
       "\n",
       "    .dataframe tbody tr th {\n",
       "        vertical-align: top;\n",
       "    }\n",
       "\n",
       "    .dataframe thead th {\n",
       "        text-align: right;\n",
       "    }\n",
       "</style>\n",
       "<table border=\"1\" class=\"dataframe\">\n",
       "  <thead>\n",
       "    <tr style=\"text-align: right;\">\n",
       "      <th></th>\n",
       "      <th>tags</th>\n",
       "      <th>name_x</th>\n",
       "      <th>name_y</th>\n",
       "    </tr>\n",
       "  </thead>\n",
       "  <tbody>\n",
       "    <tr>\n",
       "      <th>0</th>\n",
       "      <td>Your reply is generally positive and complimen...</td>\n",
       "      <td>sonu</td>\n",
       "      <td>sonu</td>\n",
       "    </tr>\n",
       "    <tr>\n",
       "      <th>1</th>\n",
       "      <td>However, it might be slightly intense for the...</td>\n",
       "      <td>swag</td>\n",
       "      <td>swag</td>\n",
       "    </tr>\n",
       "    <tr>\n",
       "      <th>2</th>\n",
       "      <td>If you want to keep things more lighthearted, ...</td>\n",
       "      <td>sim</td>\n",
       "      <td>sim</td>\n",
       "    </tr>\n",
       "  </tbody>\n",
       "</table>\n",
       "</div>"
      ],
      "text/plain": [
       "                                                tags name_x name_y\n",
       "0  Your reply is generally positive and complimen...   sonu   sonu\n",
       "1   However, it might be slightly intense for the...   swag   swag\n",
       "2  If you want to keep things more lighthearted, ...    sim    sim"
      ]
     },
     "execution_count": 107,
     "metadata": {},
     "output_type": "execute_result"
    }
   ],
   "source": [
    "df=df.merge(new,on='tags')\n",
    "df"
   ]
  },
  {
   "cell_type": "code",
   "execution_count": 108,
   "id": "8f8cbdf0",
   "metadata": {},
   "outputs": [],
   "source": [
    "import sklearn\n",
    "from sklearn.feature_extraction.text import CountVectorizer as CV"
   ]
  },
  {
   "cell_type": "code",
   "execution_count": 109,
   "id": "a02f640d",
   "metadata": {},
   "outputs": [],
   "source": [
    "cv=CV(max_features=15,stop_words='english')"
   ]
  },
  {
   "cell_type": "code",
   "execution_count": 110,
   "id": "ed9cb24f",
   "metadata": {},
   "outputs": [],
   "source": [
    "vec_arrays=cv.fit_transform(df['tags']).toarray()"
   ]
  },
  {
   "cell_type": "code",
   "execution_count": 111,
   "id": "72f2f20c",
   "metadata": {},
   "outputs": [
    {
     "data": {
      "text/plain": [
       "array([[0, 1, 0, 0, 0, 1, 1, 0, 0, 0, 1, 1, 0, 0, 0],\n",
       "       [0, 0, 0, 1, 1, 0, 0, 1, 0, 0, 0, 0, 1, 0, 0],\n",
       "       [1, 0, 1, 0, 0, 0, 0, 0, 1, 1, 0, 0, 0, 1, 1]], dtype=int64)"
      ]
     },
     "execution_count": 111,
     "metadata": {},
     "output_type": "execute_result"
    }
   ],
   "source": [
    "vec_arrays"
   ]
  },
  {
   "cell_type": "code",
   "execution_count": 112,
   "id": "f2b99383",
   "metadata": {},
   "outputs": [
    {
     "data": {
      "text/plain": [
       "(3, 15)"
      ]
     },
     "execution_count": 112,
     "metadata": {},
     "output_type": "execute_result"
    }
   ],
   "source": [
    "vec_arrays.shape"
   ]
  },
  {
   "cell_type": "code",
   "execution_count": 113,
   "id": "4a2dfc67",
   "metadata": {},
   "outputs": [
    {
     "data": {
      "text/plain": [
       "array(['bit', 'complimentary', 'consider', 'context', 'conversation',\n",
       "       'generally', 'good', 'intense', 'intensity', 'lighthearted',\n",
       "       'positive', 'reply', 'slightly', 'things', 'toning'], dtype=object)"
      ]
     },
     "execution_count": 113,
     "metadata": {},
     "output_type": "execute_result"
    }
   ],
   "source": [
    "cv.get_feature_names_out()"
   ]
  },
  {
   "cell_type": "code",
   "execution_count": 114,
   "id": "5289857d",
   "metadata": {},
   "outputs": [
    {
     "data": {
      "text/plain": [
       "array([0, 1, 0, 0, 0, 1, 1, 0, 0, 0, 1, 1, 0, 0, 0], dtype=int64)"
      ]
     },
     "execution_count": 114,
     "metadata": {},
     "output_type": "execute_result"
    }
   ],
   "source": [
    "vec_arrays[0]"
   ]
  },
  {
   "cell_type": "code",
   "execution_count": 115,
   "id": "b8b7734c",
   "metadata": {},
   "outputs": [],
   "source": [
    "# Calculating Similarities"
   ]
  },
  {
   "cell_type": "code",
   "execution_count": 116,
   "id": "0337850c",
   "metadata": {},
   "outputs": [],
   "source": [
    "from sklearn.metrics.pairwise import cosine_similarity as CS"
   ]
  },
  {
   "cell_type": "code",
   "execution_count": 117,
   "id": "98b17b4b",
   "metadata": {},
   "outputs": [],
   "source": [
    "similarities=CS(vec_arrays)"
   ]
  },
  {
   "cell_type": "code",
   "execution_count": 118,
   "id": "1fb5f16f",
   "metadata": {},
   "outputs": [
    {
     "data": {
      "text/plain": [
       "array([[1., 0., 0.],\n",
       "       [0., 1., 0.],\n",
       "       [0., 0., 1.]])"
      ]
     },
     "execution_count": 118,
     "metadata": {},
     "output_type": "execute_result"
    }
   ],
   "source": [
    "similarities"
   ]
  },
  {
   "cell_type": "code",
   "execution_count": 119,
   "id": "26ef62d0",
   "metadata": {},
   "outputs": [
    {
     "data": {
      "text/plain": [
       "array([1., 0., 0.])"
      ]
     },
     "execution_count": 119,
     "metadata": {},
     "output_type": "execute_result"
    }
   ],
   "source": [
    "similarities[0]"
   ]
  },
  {
   "cell_type": "code",
   "execution_count": 120,
   "id": "14d4c6b5",
   "metadata": {},
   "outputs": [],
   "source": [
    "# how to find index"
   ]
  },
  {
   "cell_type": "code",
   "execution_count": 121,
   "id": "74d303b3",
   "metadata": {},
   "outputs": [
    {
     "data": {
      "text/html": [
       "<div>\n",
       "<style scoped>\n",
       "    .dataframe tbody tr th:only-of-type {\n",
       "        vertical-align: middle;\n",
       "    }\n",
       "\n",
       "    .dataframe tbody tr th {\n",
       "        vertical-align: top;\n",
       "    }\n",
       "\n",
       "    .dataframe thead th {\n",
       "        text-align: right;\n",
       "    }\n",
       "</style>\n",
       "<table border=\"1\" class=\"dataframe\">\n",
       "  <thead>\n",
       "    <tr style=\"text-align: right;\">\n",
       "      <th></th>\n",
       "      <th>tags</th>\n",
       "      <th>name_x</th>\n",
       "      <th>name_y</th>\n",
       "    </tr>\n",
       "  </thead>\n",
       "  <tbody>\n",
       "    <tr>\n",
       "      <th>0</th>\n",
       "      <td>Your reply is generally positive and complimen...</td>\n",
       "      <td>sonu</td>\n",
       "      <td>sonu</td>\n",
       "    </tr>\n",
       "    <tr>\n",
       "      <th>1</th>\n",
       "      <td>However, it might be slightly intense for the...</td>\n",
       "      <td>swag</td>\n",
       "      <td>swag</td>\n",
       "    </tr>\n",
       "    <tr>\n",
       "      <th>2</th>\n",
       "      <td>If you want to keep things more lighthearted, ...</td>\n",
       "      <td>sim</td>\n",
       "      <td>sim</td>\n",
       "    </tr>\n",
       "  </tbody>\n",
       "</table>\n",
       "</div>"
      ],
      "text/plain": [
       "                                                tags name_x name_y\n",
       "0  Your reply is generally positive and complimen...   sonu   sonu\n",
       "1   However, it might be slightly intense for the...   swag   swag\n",
       "2  If you want to keep things more lighthearted, ...    sim    sim"
      ]
     },
     "execution_count": 121,
     "metadata": {},
     "output_type": "execute_result"
    }
   ],
   "source": [
    "df"
   ]
  },
  {
   "cell_type": "code",
   "execution_count": 122,
   "id": "3e94ada6",
   "metadata": {},
   "outputs": [
    {
     "data": {
      "text/plain": [
       "0    False\n",
       "1     True\n",
       "2    False\n",
       "Name: name_x, dtype: bool"
      ]
     },
     "execution_count": 122,
     "metadata": {},
     "output_type": "execute_result"
    }
   ],
   "source": [
    "df['name_x']=='swag'"
   ]
  },
  {
   "cell_type": "code",
   "execution_count": 123,
   "id": "c431f9f2",
   "metadata": {},
   "outputs": [
    {
     "data": {
      "text/html": [
       "<div>\n",
       "<style scoped>\n",
       "    .dataframe tbody tr th:only-of-type {\n",
       "        vertical-align: middle;\n",
       "    }\n",
       "\n",
       "    .dataframe tbody tr th {\n",
       "        vertical-align: top;\n",
       "    }\n",
       "\n",
       "    .dataframe thead th {\n",
       "        text-align: right;\n",
       "    }\n",
       "</style>\n",
       "<table border=\"1\" class=\"dataframe\">\n",
       "  <thead>\n",
       "    <tr style=\"text-align: right;\">\n",
       "      <th></th>\n",
       "      <th>tags</th>\n",
       "      <th>name_x</th>\n",
       "      <th>name_y</th>\n",
       "    </tr>\n",
       "  </thead>\n",
       "  <tbody>\n",
       "    <tr>\n",
       "      <th>1</th>\n",
       "      <td>However, it might be slightly intense for the...</td>\n",
       "      <td>swag</td>\n",
       "      <td>swag</td>\n",
       "    </tr>\n",
       "  </tbody>\n",
       "</table>\n",
       "</div>"
      ],
      "text/plain": [
       "                                                tags name_x name_y\n",
       "1   However, it might be slightly intense for the...   swag   swag"
      ]
     },
     "execution_count": 123,
     "metadata": {},
     "output_type": "execute_result"
    }
   ],
   "source": [
    "df[df['name_x']=='swag']"
   ]
  },
  {
   "cell_type": "code",
   "execution_count": 124,
   "id": "c093c657",
   "metadata": {},
   "outputs": [
    {
     "data": {
      "text/plain": [
       "Index([1], dtype='int64')"
      ]
     },
     "execution_count": 124,
     "metadata": {},
     "output_type": "execute_result"
    }
   ],
   "source": [
    "df[df['name_x']=='swag'].index"
   ]
  },
  {
   "cell_type": "code",
   "execution_count": 125,
   "id": "1d49c01f",
   "metadata": {},
   "outputs": [
    {
     "data": {
      "text/plain": [
       "1"
      ]
     },
     "execution_count": 125,
     "metadata": {},
     "output_type": "execute_result"
    }
   ],
   "source": [
    "df[df['name_x']=='swag'].index[0]"
   ]
  },
  {
   "cell_type": "code",
   "execution_count": 126,
   "id": "6708ed25",
   "metadata": {},
   "outputs": [],
   "source": [
    "name_index=df[df['name_x']=='swag'].index[0]"
   ]
  },
  {
   "cell_type": "code",
   "execution_count": 127,
   "id": "9c9e400f",
   "metadata": {},
   "outputs": [],
   "source": [
    "similarToSwag=similarities[name_index]"
   ]
  },
  {
   "cell_type": "code",
   "execution_count": 128,
   "id": "e1f0295b",
   "metadata": {},
   "outputs": [
    {
     "data": {
      "text/plain": [
       "array([0., 1., 0.])"
      ]
     },
     "execution_count": 128,
     "metadata": {},
     "output_type": "execute_result"
    }
   ],
   "source": [
    "similarToSwag"
   ]
  },
  {
   "cell_type": "code",
   "execution_count": 129,
   "id": "777b7fe9",
   "metadata": {},
   "outputs": [
    {
     "data": {
      "text/plain": [
       "[(0, 0.0), (1, 1.0), (2, 0.0)]"
      ]
     },
     "execution_count": 129,
     "metadata": {},
     "output_type": "execute_result"
    }
   ],
   "source": [
    "# Enumerate over the similarity scores\n",
    "similar_with_scores = list(enumerate(similarToSwag))\n",
    "similar_with_scores"
   ]
  },
  {
   "cell_type": "code",
   "execution_count": 131,
   "id": "4c0c803e",
   "metadata": {},
   "outputs": [],
   "source": [
    "topS=sorted(similar_with_scores,reverse=True, key=lambda x: x[1])"
   ]
  },
  {
   "cell_type": "code",
   "execution_count": 132,
   "id": "7ef41183",
   "metadata": {},
   "outputs": [
    {
     "data": {
      "text/plain": [
       "[(1, 1.0), (0, 0.0), (2, 0.0)]"
      ]
     },
     "execution_count": 132,
     "metadata": {},
     "output_type": "execute_result"
    }
   ],
   "source": [
    "topS"
   ]
  },
  {
   "cell_type": "code",
   "execution_count": null,
   "id": "8c10a2d1",
   "metadata": {},
   "outputs": [],
   "source": []
  }
 ],
 "metadata": {
  "kernelspec": {
   "display_name": "Python 3 (ipykernel)",
   "language": "python",
   "name": "python3"
  },
  "language_info": {
   "codemirror_mode": {
    "name": "ipython",
    "version": 3
   },
   "file_extension": ".py",
   "mimetype": "text/x-python",
   "name": "python",
   "nbconvert_exporter": "python",
   "pygments_lexer": "ipython3",
   "version": "3.11.1"
  }
 },
 "nbformat": 4,
 "nbformat_minor": 5
}
