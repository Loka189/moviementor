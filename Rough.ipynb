{
 "cells": [
  {
   "cell_type": "code",
   "execution_count": 1,
   "id": "d1bf0844",
   "metadata": {},
   "outputs": [],
   "source": [
    "import pandas as pd\n",
    "\n",
    "# Example DataFrame\n",
    "data = {'ID': [1, 2, 3, 4],\n",
    "        'Values': [[1], [], [2, 3], [4, 5, 6]]}\n",
    "\n",
    "df = pd.DataFrame(data)\n",
    "\n"
   ]
  },
  {
   "cell_type": "code",
   "execution_count": 2,
   "id": "66829d8f",
   "metadata": {},
   "outputs": [
    {
     "data": {
      "text/html": [
       "<div>\n",
       "<style scoped>\n",
       "    .dataframe tbody tr th:only-of-type {\n",
       "        vertical-align: middle;\n",
       "    }\n",
       "\n",
       "    .dataframe tbody tr th {\n",
       "        vertical-align: top;\n",
       "    }\n",
       "\n",
       "    .dataframe thead th {\n",
       "        text-align: right;\n",
       "    }\n",
       "</style>\n",
       "<table border=\"1\" class=\"dataframe\">\n",
       "  <thead>\n",
       "    <tr style=\"text-align: right;\">\n",
       "      <th></th>\n",
       "      <th>ID</th>\n",
       "      <th>Values</th>\n",
       "    </tr>\n",
       "  </thead>\n",
       "  <tbody>\n",
       "    <tr>\n",
       "      <th>0</th>\n",
       "      <td>1</td>\n",
       "      <td>[1]</td>\n",
       "    </tr>\n",
       "    <tr>\n",
       "      <th>1</th>\n",
       "      <td>2</td>\n",
       "      <td>[]</td>\n",
       "    </tr>\n",
       "    <tr>\n",
       "      <th>2</th>\n",
       "      <td>3</td>\n",
       "      <td>[2, 3]</td>\n",
       "    </tr>\n",
       "    <tr>\n",
       "      <th>3</th>\n",
       "      <td>4</td>\n",
       "      <td>[4, 5, 6]</td>\n",
       "    </tr>\n",
       "  </tbody>\n",
       "</table>\n",
       "</div>"
      ],
      "text/plain": [
       "   ID     Values\n",
       "0   1        [1]\n",
       "1   2         []\n",
       "2   3     [2, 3]\n",
       "3   4  [4, 5, 6]"
      ]
     },
     "execution_count": 2,
     "metadata": {},
     "output_type": "execute_result"
    }
   ],
   "source": [
    "df"
   ]
  },
  {
   "cell_type": "code",
   "execution_count": 9,
   "id": "af24b22b",
   "metadata": {},
   "outputs": [
    {
     "data": {
      "text/html": [
       "<div>\n",
       "<style scoped>\n",
       "    .dataframe tbody tr th:only-of-type {\n",
       "        vertical-align: middle;\n",
       "    }\n",
       "\n",
       "    .dataframe tbody tr th {\n",
       "        vertical-align: top;\n",
       "    }\n",
       "\n",
       "    .dataframe thead th {\n",
       "        text-align: right;\n",
       "    }\n",
       "</style>\n",
       "<table border=\"1\" class=\"dataframe\">\n",
       "  <thead>\n",
       "    <tr style=\"text-align: right;\">\n",
       "      <th></th>\n",
       "      <th>ID</th>\n",
       "      <th>Values</th>\n",
       "    </tr>\n",
       "  </thead>\n",
       "  <tbody>\n",
       "    <tr>\n",
       "      <th>0</th>\n",
       "      <td>1</td>\n",
       "      <td>[1]</td>\n",
       "    </tr>\n",
       "    <tr>\n",
       "      <th>2</th>\n",
       "      <td>3</td>\n",
       "      <td>[2, 3]</td>\n",
       "    </tr>\n",
       "    <tr>\n",
       "      <th>3</th>\n",
       "      <td>4</td>\n",
       "      <td>[4, 5, 6]</td>\n",
       "    </tr>\n",
       "  </tbody>\n",
       "</table>\n",
       "</div>"
      ],
      "text/plain": [
       "   ID     Values\n",
       "0   1        [1]\n",
       "2   3     [2, 3]\n",
       "3   4  [4, 5, 6]"
      ]
     },
     "execution_count": 9,
     "metadata": {},
     "output_type": "execute_result"
    }
   ],
   "source": [
    "df[df['Values'].apply(lambda x:x!=[])]"
   ]
  },
  {
   "cell_type": "code",
   "execution_count": 10,
   "id": "5edf495e",
   "metadata": {},
   "outputs": [
    {
     "data": {
      "text/html": [
       "<div>\n",
       "<style scoped>\n",
       "    .dataframe tbody tr th:only-of-type {\n",
       "        vertical-align: middle;\n",
       "    }\n",
       "\n",
       "    .dataframe tbody tr th {\n",
       "        vertical-align: top;\n",
       "    }\n",
       "\n",
       "    .dataframe thead th {\n",
       "        text-align: right;\n",
       "    }\n",
       "</style>\n",
       "<table border=\"1\" class=\"dataframe\">\n",
       "  <thead>\n",
       "    <tr style=\"text-align: right;\">\n",
       "      <th></th>\n",
       "      <th>ID</th>\n",
       "      <th>Values</th>\n",
       "    </tr>\n",
       "  </thead>\n",
       "  <tbody>\n",
       "    <tr>\n",
       "      <th>0</th>\n",
       "      <td>1</td>\n",
       "      <td>[1]</td>\n",
       "    </tr>\n",
       "    <tr>\n",
       "      <th>2</th>\n",
       "      <td>3</td>\n",
       "      <td>[2, 3]</td>\n",
       "    </tr>\n",
       "    <tr>\n",
       "      <th>3</th>\n",
       "      <td>4</td>\n",
       "      <td>[4, 5, 6]</td>\n",
       "    </tr>\n",
       "  </tbody>\n",
       "</table>\n",
       "</div>"
      ],
      "text/plain": [
       "   ID     Values\n",
       "0   1        [1]\n",
       "2   3     [2, 3]\n",
       "3   4  [4, 5, 6]"
      ]
     },
     "execution_count": 10,
     "metadata": {},
     "output_type": "execute_result"
    }
   ],
   "source": [
    "df=df[df['Values'].apply(lambda x:x!=[])]\n",
    "df"
   ]
  },
  {
   "cell_type": "code",
   "execution_count": 17,
   "id": "ad6ce4a7",
   "metadata": {},
   "outputs": [
    {
     "data": {
      "text/plain": [
       "1"
      ]
     },
     "execution_count": 17,
     "metadata": {},
     "output_type": "execute_result"
    }
   ],
   "source": [
    "df.iloc[0].ID"
   ]
  },
  {
   "cell_type": "code",
   "execution_count": 19,
   "id": "f4c193fa",
   "metadata": {},
   "outputs": [
    {
     "data": {
      "text/plain": [
       "['Sonu Shoo', 'Mikasa Ackerman']"
      ]
     },
     "execution_count": 19,
     "metadata": {},
     "output_type": "execute_result"
    }
   ],
   "source": [
    "name=['Sonu Shoo','Mikasa Ackerman']\n",
    "name"
   ]
  },
  {
   "cell_type": "code",
   "execution_count": 20,
   "id": "030c1f6d",
   "metadata": {},
   "outputs": [
    {
     "data": {
      "text/plain": [
       "['SonuShoo', 'MikasaAckerman']"
      ]
     },
     "execution_count": 20,
     "metadata": {},
     "output_type": "execute_result"
    }
   ],
   "source": [
    "removeSpace=(lambda x:[i.replace(\" \",\"\") for i in x])\n",
    "removeSpace(name)"
   ]
  },
  {
   "cell_type": "code",
   "execution_count": 22,
   "id": "aa55f85b",
   "metadata": {},
   "outputs": [
    {
     "data": {
      "text/plain": [
       "'ghjtdf-hjghg-hg'"
      ]
     },
     "execution_count": 22,
     "metadata": {},
     "output_type": "execute_result"
    }
   ],
   "source": [
    "x='ghjtdf hjghg hg'\n",
    "x.replace(' ','-')"
   ]
  },
  {
   "cell_type": "code",
   "execution_count": 24,
   "id": "6cdab303",
   "metadata": {},
   "outputs": [
    {
     "name": "stdout",
     "output_type": "stream",
     "text": [
      "['au', 'aux', 'avec', 'ce', 'ces', 'dans', 'de', 'des', 'du', 'elle', 'en', 'et', 'eux', 'il', 'ils', 'je', 'la', 'le', 'les', 'leur', 'lui', 'ma', 'mais', 'me', 'même', 'mes', 'moi', 'mon', 'ne', 'nos', 'notre', 'nous', 'on', 'ou', 'par', 'pas', 'pour', 'qu', 'que', 'qui', 'sa', 'se', 'ses', 'son', 'sur', 'ta', 'te', 'tes', 'toi', 'ton', 'tu', 'un', 'une', 'vos', 'votre', 'vous', 'c', 'd', 'j', 'l', 'à', 'm', 'n', 's', 't', 'y', 'été', 'étée', 'étées', 'étés', 'étant', 'étante', 'étants', 'étantes', 'suis', 'es', 'est', 'sommes', 'êtes', 'sont', 'serai', 'seras', 'sera', 'serons', 'serez', 'seront', 'serais', 'serait', 'serions', 'seriez', 'seraient', 'étais', 'était', 'étions', 'étiez', 'étaient', 'fus', 'fut', 'fûmes', 'fûtes', 'furent', 'sois', 'soit', 'soyons', 'soyez', 'soient', 'fusse', 'fusses', 'fût', 'fussions', 'fussiez', 'fussent', 'ayant', 'ayante', 'ayantes', 'ayants', 'eu', 'eue', 'eues', 'eus', 'ai', 'as', 'avons', 'avez', 'ont', 'aurai', 'auras', 'aura', 'aurons', 'aurez', 'auront', 'aurais', 'aurait', 'aurions', 'auriez', 'auraient', 'avais', 'avait', 'avions', 'aviez', 'avaient', 'eut', 'eûmes', 'eûtes', 'eurent', 'aie', 'aies', 'ait', 'ayons', 'ayez', 'aient', 'eusse', 'eusses', 'eût', 'eussions', 'eussiez', 'eussent']\n"
     ]
    }
   ],
   "source": [
    "import nltk\n",
    "from nltk.corpus import stopwords\n",
    "\n",
    "\n",
    "print(stopwords.words('french'))\n"
   ]
  },
  {
   "cell_type": "code",
   "execution_count": 26,
   "id": "f53f9f3a",
   "metadata": {},
   "outputs": [],
   "source": [
    "from nltk.tokenize import word_tokenize"
   ]
  },
  {
   "cell_type": "code",
   "execution_count": 27,
   "id": "9f8eabcd",
   "metadata": {},
   "outputs": [],
   "source": [
    "text='This is an example sentence with some stop words.'"
   ]
  },
  {
   "cell_type": "code",
   "execution_count": 28,
   "id": "d0fe0be8",
   "metadata": {},
   "outputs": [],
   "source": [
    "stop_words = set(stopwords.words('english'))"
   ]
  },
  {
   "cell_type": "code",
   "execution_count": 29,
   "id": "b5f9a69f",
   "metadata": {},
   "outputs": [
    {
     "name": "stderr",
     "output_type": "stream",
     "text": [
      "[nltk_data] Downloading package punkt to\n",
      "[nltk_data]     C:\\Users\\ASUS\\AppData\\Roaming\\nltk_data...\n",
      "[nltk_data]   Package punkt is already up-to-date!\n"
     ]
    },
    {
     "data": {
      "text/plain": [
       "True"
      ]
     },
     "execution_count": 29,
     "metadata": {},
     "output_type": "execute_result"
    }
   ],
   "source": [
    "nltk.download('punkt')\n"
   ]
  },
  {
   "cell_type": "code",
   "execution_count": 30,
   "id": "fa9adca7",
   "metadata": {},
   "outputs": [],
   "source": [
    "word_tokens = word_tokenize(text)\n",
    "filtered_sentence = [w for w in word_tokens if not w.lower() in stop_words]"
   ]
  },
  {
   "cell_type": "code",
   "execution_count": 31,
   "id": "426127bf",
   "metadata": {},
   "outputs": [],
   "source": [
    "filtered_text = ' '.join(filtered_sentence)"
   ]
  },
  {
   "cell_type": "code",
   "execution_count": 32,
   "id": "ba546bd9",
   "metadata": {},
   "outputs": [
    {
     "data": {
      "text/plain": [
       "'example sentence stop words .'"
      ]
     },
     "execution_count": 32,
     "metadata": {},
     "output_type": "execute_result"
    }
   ],
   "source": [
    "filtered_text"
   ]
  },
  {
   "cell_type": "code",
   "execution_count": 33,
   "id": "2c5e7169",
   "metadata": {},
   "outputs": [],
   "source": [
    "from nltk.stem.porter import PorterStemmer\n",
    "ps=PorterStemmer()"
   ]
  },
  {
   "cell_type": "code",
   "execution_count": 34,
   "id": "5a05b016",
   "metadata": {},
   "outputs": [
    {
     "data": {
      "text/plain": [
       "'danc'"
      ]
     },
     "execution_count": 34,
     "metadata": {},
     "output_type": "execute_result"
    }
   ],
   "source": [
    "ps.stem('danced')"
   ]
  },
  {
   "cell_type": "code",
   "execution_count": 36,
   "id": "e51432e4",
   "metadata": {},
   "outputs": [
    {
     "data": {
      "text/plain": [
       "'love'"
      ]
     },
     "execution_count": 36,
     "metadata": {},
     "output_type": "execute_result"
    }
   ],
   "source": [
    "ps.stem('loved')"
   ]
  },
  {
   "cell_type": "code",
   "execution_count": 37,
   "id": "b3027cc5",
   "metadata": {},
   "outputs": [],
   "source": [
    "import sklearn"
   ]
  },
  {
   "cell_type": "code",
   "execution_count": 38,
   "id": "a4021784",
   "metadata": {},
   "outputs": [],
   "source": [
    "from sklearn.feature_extraction.text import CountVectorizer"
   ]
  },
  {
   "cell_type": "code",
   "execution_count": 39,
   "id": "1bb1cb26",
   "metadata": {},
   "outputs": [],
   "source": [
    "cv=CountVectorizer(max_features=50)"
   ]
  },
  {
   "cell_type": "code",
   "execution_count": 40,
   "id": "6b1f3cb1",
   "metadata": {},
   "outputs": [],
   "source": [
    "sent1 = \"Attack on Titan, created by Hajime Isayama, is a gripping anime set in a world besieged by enormous humanoid creatures known as Titans, which have forced humanity to live within massive walled cities for protection.\"\n",
    "\n",
    "sent2 = \"Death Note is an anime that follows a high school student named Light Yagami who discovers a supernatural notebook.\"\n"
   ]
  },
  {
   "cell_type": "code",
   "execution_count": 41,
   "id": "b5213429",
   "metadata": {},
   "outputs": [],
   "source": [
    "sentences = [sent1, sent2]\n",
    "vectorized_array = cv.fit_transform(sentences).toarray()"
   ]
  },
  {
   "cell_type": "code",
   "execution_count": 42,
   "id": "13c68405",
   "metadata": {},
   "outputs": [],
   "source": [
    "feature_names = cv.get_feature_names_out()"
   ]
  },
  {
   "cell_type": "code",
   "execution_count": 43,
   "id": "6b1bb160",
   "metadata": {},
   "outputs": [
    {
     "data": {
      "text/plain": [
       "array(['an', 'anime', 'as', 'attack', 'besieged', 'by', 'cities',\n",
       "       'created', 'creatures', 'death', 'discovers', 'enormous',\n",
       "       'follows', 'for', 'forced', 'gripping', 'hajime', 'have', 'high',\n",
       "       'humanity', 'humanoid', 'in', 'is', 'isayama', 'known', 'light',\n",
       "       'live', 'massive', 'named', 'note', 'notebook', 'on', 'protection',\n",
       "       'school', 'set', 'student', 'supernatural', 'that', 'titan',\n",
       "       'titans', 'to', 'walled', 'which', 'who', 'within', 'world',\n",
       "       'yagami'], dtype=object)"
      ]
     },
     "execution_count": 43,
     "metadata": {},
     "output_type": "execute_result"
    }
   ],
   "source": [
    "feature_names"
   ]
  },
  {
   "cell_type": "code",
   "execution_count": 44,
   "id": "5264118d",
   "metadata": {},
   "outputs": [
    {
     "data": {
      "text/plain": [
       "array([0, 1, 1, 1, 1, 2, 1, 1, 1, 0, 0, 1, 0, 1, 1, 1, 1, 1, 0, 1, 1, 1,\n",
       "       1, 1, 1, 0, 1, 1, 0, 0, 0, 1, 1, 0, 1, 0, 0, 0, 1, 1, 1, 1, 1, 0,\n",
       "       1, 1, 0], dtype=int64)"
      ]
     },
     "execution_count": 44,
     "metadata": {},
     "output_type": "execute_result"
    }
   ],
   "source": [
    "vectorized_array[0]"
   ]
  },
  {
   "cell_type": "code",
   "execution_count": 45,
   "id": "754f16fc",
   "metadata": {},
   "outputs": [],
   "source": [
    "# remove stop words\n",
    "# remove dual\n",
    "# perform cv"
   ]
  },
  {
   "cell_type": "code",
   "execution_count": 46,
   "id": "50e0bd04",
   "metadata": {},
   "outputs": [],
   "source": [
    "import nltk\n",
    "from nltk.corpus import stopwords\n",
    "from nltk.tokenize import word_tokenize"
   ]
  },
  {
   "cell_type": "code",
   "execution_count": 47,
   "id": "c21d20b3",
   "metadata": {},
   "outputs": [],
   "source": [
    "stopWords=set(stopwords.words('english'))\n",
    "wordTokenize1=word_tokenize(sent1)\n",
    "wordTokenize2=word_tokenize(sent2)\n",
    "filtered_sentence1 = [w for w in wordTokenize1 if not w.lower() in stopWords]\n",
    "filtered_sentence2 = [w for w in wordTokenize2 if not w.lower() in stopWords]\n"
   ]
  },
  {
   "cell_type": "code",
   "execution_count": 48,
   "id": "574438eb",
   "metadata": {},
   "outputs": [
    {
     "data": {
      "text/plain": [
       "['Attack',\n",
       " 'on',\n",
       " 'Titan',\n",
       " ',',\n",
       " 'created',\n",
       " 'by',\n",
       " 'Hajime',\n",
       " 'Isayama',\n",
       " ',',\n",
       " 'is',\n",
       " 'a',\n",
       " 'gripping',\n",
       " 'anime',\n",
       " 'set',\n",
       " 'in',\n",
       " 'a',\n",
       " 'world',\n",
       " 'besieged',\n",
       " 'by',\n",
       " 'enormous',\n",
       " 'humanoid',\n",
       " 'creatures',\n",
       " 'known',\n",
       " 'as',\n",
       " 'Titans',\n",
       " ',',\n",
       " 'which',\n",
       " 'have',\n",
       " 'forced',\n",
       " 'humanity',\n",
       " 'to',\n",
       " 'live',\n",
       " 'within',\n",
       " 'massive',\n",
       " 'walled',\n",
       " 'cities',\n",
       " 'for',\n",
       " 'protection',\n",
       " '.']"
      ]
     },
     "execution_count": 48,
     "metadata": {},
     "output_type": "execute_result"
    }
   ],
   "source": [
    "wordTokenize1"
   ]
  },
  {
   "cell_type": "code",
   "execution_count": 49,
   "id": "2d1ff1ad",
   "metadata": {},
   "outputs": [
    {
     "data": {
      "text/plain": [
       "['attack',\n",
       " 'on',\n",
       " 'titan',\n",
       " ',',\n",
       " 'creat',\n",
       " 'by',\n",
       " 'hajim',\n",
       " 'isayama',\n",
       " ',',\n",
       " 'is',\n",
       " 'a',\n",
       " 'grip',\n",
       " 'anim',\n",
       " 'set',\n",
       " 'in',\n",
       " 'a',\n",
       " 'world',\n",
       " 'besieg',\n",
       " 'by',\n",
       " 'enorm',\n",
       " 'humanoid',\n",
       " 'creatur',\n",
       " 'known',\n",
       " 'as',\n",
       " 'titan',\n",
       " ',',\n",
       " 'which',\n",
       " 'have',\n",
       " 'forc',\n",
       " 'human',\n",
       " 'to',\n",
       " 'live',\n",
       " 'within',\n",
       " 'massiv',\n",
       " 'wall',\n",
       " 'citi',\n",
       " 'for',\n",
       " 'protect',\n",
       " '.']"
      ]
     },
     "execution_count": 49,
     "metadata": {},
     "output_type": "execute_result"
    }
   ],
   "source": [
    "wt1=[ps.stem(w) for w in wordTokenize1]\n",
    "wt1"
   ]
  },
  {
   "cell_type": "code",
   "execution_count": 50,
   "id": "39fbfca7",
   "metadata": {},
   "outputs": [
    {
     "data": {
      "text/plain": [
       "['Attack',\n",
       " 'Titan',\n",
       " ',',\n",
       " 'created',\n",
       " 'Hajime',\n",
       " 'Isayama',\n",
       " ',',\n",
       " 'gripping',\n",
       " 'anime',\n",
       " 'set',\n",
       " 'world',\n",
       " 'besieged',\n",
       " 'enormous',\n",
       " 'humanoid',\n",
       " 'creatures',\n",
       " 'known',\n",
       " 'Titans',\n",
       " ',',\n",
       " 'forced',\n",
       " 'humanity',\n",
       " 'live',\n",
       " 'within',\n",
       " 'massive',\n",
       " 'walled',\n",
       " 'cities',\n",
       " 'protection',\n",
       " '.']"
      ]
     },
     "execution_count": 50,
     "metadata": {},
     "output_type": "execute_result"
    }
   ],
   "source": [
    "filtered_sentence1"
   ]
  },
  {
   "cell_type": "code",
   "execution_count": 51,
   "id": "19a0d7d9",
   "metadata": {},
   "outputs": [],
   "source": [
    "text1=' '.join(filtered_sentence1)"
   ]
  },
  {
   "cell_type": "code",
   "execution_count": 52,
   "id": "3e7a9923",
   "metadata": {},
   "outputs": [
    {
     "data": {
      "text/plain": [
       "'Attack Titan , created Hajime Isayama , gripping anime set world besieged enormous humanoid creatures known Titans , forced humanity live within massive walled cities protection .'"
      ]
     },
     "execution_count": 52,
     "metadata": {},
     "output_type": "execute_result"
    }
   ],
   "source": [
    "text1"
   ]
  },
  {
   "cell_type": "code",
   "execution_count": 53,
   "id": "2a939199",
   "metadata": {},
   "outputs": [
    {
     "data": {
      "text/plain": [
       "'Death Note anime follows high school student named Light Yagami discovers supernatural notebook .'"
      ]
     },
     "execution_count": 53,
     "metadata": {},
     "output_type": "execute_result"
    }
   ],
   "source": [
    "text2=' '.join(filtered_sentence2)\n",
    "text2"
   ]
  },
  {
   "cell_type": "code",
   "execution_count": 54,
   "id": "f346114b",
   "metadata": {},
   "outputs": [
    {
     "data": {
      "text/plain": [
       "'death note anime follows high school student named light yagami discovers supernatural notebook .'"
      ]
     },
     "execution_count": 54,
     "metadata": {},
     "output_type": "execute_result"
    }
   ],
   "source": [
    "text1=ps.stem(text1)\n",
    "textm=ps.stem(text2)\n",
    "textm"
   ]
  },
  {
   "cell_type": "code",
   "execution_count": 55,
   "id": "576c77c8",
   "metadata": {},
   "outputs": [],
   "source": [
    "x=['loved','loving']"
   ]
  },
  {
   "cell_type": "code",
   "execution_count": 56,
   "id": "46b7f421",
   "metadata": {},
   "outputs": [
    {
     "data": {
      "text/plain": [
       "['love', 'love']"
      ]
     },
     "execution_count": 56,
     "metadata": {},
     "output_type": "execute_result"
    }
   ],
   "source": [
    "y=[ps.stem(w) for w in x]\n",
    "y"
   ]
  },
  {
   "cell_type": "code",
   "execution_count": 57,
   "id": "f66a4881",
   "metadata": {},
   "outputs": [],
   "source": [
    "x={'tags':['Attack on Titan, created by Hajime Isayama, is a gripping anime set in a world besieged by enormous humanoid creatures known as Titans, which have forced humanity to live within massive walled cities for protection.','Death Note is an anime that follows a high school student named Light Yagami who discovers a supernatural notebook.','To check the list of stopwords you can type the following commands in the python shell.']}"
   ]
  },
  {
   "cell_type": "code",
   "execution_count": 58,
   "id": "840daef9",
   "metadata": {},
   "outputs": [],
   "source": [
    "dff=pd.DataFrame(x)"
   ]
  },
  {
   "cell_type": "code",
   "execution_count": 59,
   "id": "532e8310",
   "metadata": {},
   "outputs": [
    {
     "data": {
      "text/html": [
       "<div>\n",
       "<style scoped>\n",
       "    .dataframe tbody tr th:only-of-type {\n",
       "        vertical-align: middle;\n",
       "    }\n",
       "\n",
       "    .dataframe tbody tr th {\n",
       "        vertical-align: top;\n",
       "    }\n",
       "\n",
       "    .dataframe thead th {\n",
       "        text-align: right;\n",
       "    }\n",
       "</style>\n",
       "<table border=\"1\" class=\"dataframe\">\n",
       "  <thead>\n",
       "    <tr style=\"text-align: right;\">\n",
       "      <th></th>\n",
       "      <th>tags</th>\n",
       "    </tr>\n",
       "  </thead>\n",
       "  <tbody>\n",
       "    <tr>\n",
       "      <th>0</th>\n",
       "      <td>Attack on Titan, created by Hajime Isayama, is...</td>\n",
       "    </tr>\n",
       "    <tr>\n",
       "      <th>1</th>\n",
       "      <td>Death Note is an anime that follows a high sch...</td>\n",
       "    </tr>\n",
       "    <tr>\n",
       "      <th>2</th>\n",
       "      <td>To check the list of stopwords you can type th...</td>\n",
       "    </tr>\n",
       "  </tbody>\n",
       "</table>\n",
       "</div>"
      ],
      "text/plain": [
       "                                                tags\n",
       "0  Attack on Titan, created by Hajime Isayama, is...\n",
       "1  Death Note is an anime that follows a high sch...\n",
       "2  To check the list of stopwords you can type th..."
      ]
     },
     "execution_count": 59,
     "metadata": {},
     "output_type": "execute_result"
    }
   ],
   "source": [
    "dff"
   ]
  },
  {
   "cell_type": "code",
   "execution_count": 60,
   "id": "48204921",
   "metadata": {},
   "outputs": [],
   "source": [
    "import nltk\n",
    "from nltk.corpus import stopwords\n",
    "from nltk.tokenize import word_tokenize"
   ]
  },
  {
   "cell_type": "code",
   "execution_count": 61,
   "id": "ac29a932",
   "metadata": {},
   "outputs": [],
   "source": [
    "sw=set(stopwords.words(\"english\"))"
   ]
  },
  {
   "cell_type": "code",
   "execution_count": 62,
   "id": "56751096",
   "metadata": {},
   "outputs": [],
   "source": [
    "def removeStopWords(obj):\n",
    "    wt=word_tokenize(obj)\n",
    "    fs=[w for w in wt if not w.lower() in sw]\n",
    "    fs1=[ps.stem(g) for g in fs]\n",
    "    return ' '.join(fs1)"
   ]
  },
  {
   "cell_type": "code",
   "execution_count": 63,
   "id": "8ac77d69",
   "metadata": {},
   "outputs": [],
   "source": [
    "dff['tags']=dff['tags'].apply(removeStopWords)"
   ]
  },
  {
   "cell_type": "code",
   "execution_count": 64,
   "id": "aec6a75c",
   "metadata": {},
   "outputs": [
    {
     "data": {
      "text/plain": [
       "'death note anim follow high school student name light yagami discov supernatur notebook .'"
      ]
     },
     "execution_count": 64,
     "metadata": {},
     "output_type": "execute_result"
    }
   ],
   "source": [
    "dff['tags'][1]"
   ]
  },
  {
   "cell_type": "code",
   "execution_count": 65,
   "id": "5b6dbda3",
   "metadata": {},
   "outputs": [],
   "source": [
    "from nltk.stem.porter import PorterStemmer\n",
    "pss=PorterStemmer()"
   ]
  },
  {
   "cell_type": "code",
   "execution_count": 66,
   "id": "0588a251",
   "metadata": {},
   "outputs": [
    {
     "data": {
      "text/plain": [
       "'fuck'"
      ]
     },
     "execution_count": 66,
     "metadata": {},
     "output_type": "execute_result"
    }
   ],
   "source": [
    "pss.stem('fucked')"
   ]
  },
  {
   "cell_type": "code",
   "execution_count": 67,
   "id": "c7884f13",
   "metadata": {},
   "outputs": [
    {
     "data": {
      "text/plain": [
       "['fuck', 'fuck']"
      ]
     },
     "execution_count": 67,
     "metadata": {},
     "output_type": "execute_result"
    }
   ],
   "source": [
    "x=['fucked','fucking']\n",
    "y=[pss.stem(e) for e in x]\n",
    "y"
   ]
  },
  {
   "cell_type": "code",
   "execution_count": 68,
   "id": "950f59e2",
   "metadata": {},
   "outputs": [
    {
     "data": {
      "text/html": [
       "<div>\n",
       "<style scoped>\n",
       "    .dataframe tbody tr th:only-of-type {\n",
       "        vertical-align: middle;\n",
       "    }\n",
       "\n",
       "    .dataframe tbody tr th {\n",
       "        vertical-align: top;\n",
       "    }\n",
       "\n",
       "    .dataframe thead th {\n",
       "        text-align: right;\n",
       "    }\n",
       "</style>\n",
       "<table border=\"1\" class=\"dataframe\">\n",
       "  <thead>\n",
       "    <tr style=\"text-align: right;\">\n",
       "      <th></th>\n",
       "      <th>tags</th>\n",
       "    </tr>\n",
       "  </thead>\n",
       "  <tbody>\n",
       "    <tr>\n",
       "      <th>0</th>\n",
       "      <td>attack titan , creat hajim isayama , grip anim...</td>\n",
       "    </tr>\n",
       "    <tr>\n",
       "      <th>1</th>\n",
       "      <td>death note anim follow high school student nam...</td>\n",
       "    </tr>\n",
       "    <tr>\n",
       "      <th>2</th>\n",
       "      <td>check list stopword type follow command python...</td>\n",
       "    </tr>\n",
       "  </tbody>\n",
       "</table>\n",
       "</div>"
      ],
      "text/plain": [
       "                                                tags\n",
       "0  attack titan , creat hajim isayama , grip anim...\n",
       "1  death note anim follow high school student nam...\n",
       "2  check list stopword type follow command python..."
      ]
     },
     "execution_count": 68,
     "metadata": {},
     "output_type": "execute_result"
    }
   ],
   "source": [
    "dff"
   ]
  },
  {
   "cell_type": "code",
   "execution_count": 69,
   "id": "acd3f57a",
   "metadata": {},
   "outputs": [],
   "source": [
    "import sklearn\n",
    "from sklearn.feature_extraction.text import CountVectorizer\n",
    "cv=CountVectorizer(max_features=50)"
   ]
  },
  {
   "cell_type": "code",
   "execution_count": 70,
   "id": "43fd3958",
   "metadata": {},
   "outputs": [],
   "source": [
    "vectorized_array1 = cv.fit_transform(dff['tags']).toarray()"
   ]
  },
  {
   "cell_type": "code",
   "execution_count": 71,
   "id": "74f08ca9",
   "metadata": {},
   "outputs": [
    {
     "data": {
      "text/plain": [
       "array([[1, 1, 1, 0, 1, 0, 1, 1, 0, 0, 1, 0, 1, 1, 1, 0, 1, 1, 1, 1, 0, 0,\n",
       "        1, 1, 0, 0, 0, 1, 0, 0, 1, 0, 0, 0, 0, 2, 0, 1, 1, 1, 0],\n",
       "       [1, 0, 0, 0, 0, 0, 0, 0, 1, 1, 0, 1, 0, 0, 0, 1, 0, 0, 0, 0, 1, 0,\n",
       "        0, 0, 1, 1, 1, 0, 0, 1, 0, 0, 0, 1, 1, 0, 0, 0, 0, 0, 1],\n",
       "       [0, 0, 0, 1, 0, 1, 0, 0, 0, 0, 0, 1, 0, 0, 0, 0, 0, 0, 0, 0, 0, 1,\n",
       "        0, 0, 0, 0, 0, 0, 1, 0, 0, 1, 1, 0, 0, 0, 1, 0, 0, 0, 0]],\n",
       "      dtype=int64)"
      ]
     },
     "execution_count": 71,
     "metadata": {},
     "output_type": "execute_result"
    }
   ],
   "source": [
    "vectorized_array1"
   ]
  },
  {
   "cell_type": "code",
   "execution_count": 72,
   "id": "84f6e89c",
   "metadata": {},
   "outputs": [],
   "source": [
    "feature_names1 = cv.get_feature_names_out()"
   ]
  },
  {
   "cell_type": "code",
   "execution_count": 73,
   "id": "8c60a660",
   "metadata": {},
   "outputs": [
    {
     "data": {
      "text/plain": [
       "array(['anim', 'attack', 'besieg', 'check', 'citi', 'command', 'creat',\n",
       "       'creatur', 'death', 'discov', 'enorm', 'follow', 'forc', 'grip',\n",
       "       'hajim', 'high', 'human', 'humanoid', 'isayama', 'known', 'light',\n",
       "       'list', 'live', 'massiv', 'name', 'note', 'notebook', 'protect',\n",
       "       'python', 'school', 'set', 'shell', 'stopword', 'student',\n",
       "       'supernatur', 'titan', 'type', 'wall', 'within', 'world', 'yagami'],\n",
       "      dtype=object)"
      ]
     },
     "execution_count": 73,
     "metadata": {},
     "output_type": "execute_result"
    }
   ],
   "source": [
    "feature_names1"
   ]
  },
  {
   "cell_type": "code",
   "execution_count": 74,
   "id": "05bf93c9",
   "metadata": {},
   "outputs": [
    {
     "data": {
      "text/plain": [
       "array([1, 0, 0, 0, 0, 0, 0, 0, 1, 1, 0, 1, 0, 0, 0, 1, 0, 0, 0, 0, 1, 0,\n",
       "       0, 0, 1, 1, 1, 0, 0, 1, 0, 0, 0, 1, 1, 0, 0, 0, 0, 0, 1],\n",
       "      dtype=int64)"
      ]
     },
     "execution_count": 74,
     "metadata": {},
     "output_type": "execute_result"
    }
   ],
   "source": [
    "vectorized_array1[1]"
   ]
  },
  {
   "cell_type": "code",
   "execution_count": 1,
   "id": "11a0e243",
   "metadata": {},
   "outputs": [
    {
     "data": {
      "text/plain": [
       "True"
      ]
     },
     "execution_count": 1,
     "metadata": {},
     "output_type": "execute_result"
    }
   ],
   "source": [
    "x=1\n",
    "y=1\n",
    "x==y"
   ]
  },
  {
   "cell_type": "code",
   "execution_count": 5,
   "id": "37763561",
   "metadata": {},
   "outputs": [
    {
     "name": "stdout",
     "output_type": "stream",
     "text": [
      "no\n"
     ]
    }
   ],
   "source": [
    "if 1==10:\n",
    "    print('yes')\n",
    "#print('-----')\n",
    "else:\n",
    "    print(\"no\")"
   ]
  },
  {
   "cell_type": "code",
   "execution_count": 14,
   "id": "616ed49c",
   "metadata": {},
   "outputs": [
    {
     "data": {
      "text/html": [
       "<div>\n",
       "<style scoped>\n",
       "    .dataframe tbody tr th:only-of-type {\n",
       "        vertical-align: middle;\n",
       "    }\n",
       "\n",
       "    .dataframe tbody tr th {\n",
       "        vertical-align: top;\n",
       "    }\n",
       "\n",
       "    .dataframe thead th {\n",
       "        text-align: right;\n",
       "    }\n",
       "</style>\n",
       "<table border=\"1\" class=\"dataframe\">\n",
       "  <thead>\n",
       "    <tr style=\"text-align: right;\">\n",
       "      <th></th>\n",
       "      <th>name</th>\n",
       "      <th>home</th>\n",
       "      <th>status</th>\n",
       "      <th>id</th>\n",
       "    </tr>\n",
       "  </thead>\n",
       "  <tbody>\n",
       "    <tr>\n",
       "      <th>0</th>\n",
       "      <td>swag</td>\n",
       "      <td>jhinti</td>\n",
       "      <td>12th</td>\n",
       "      <td>1</td>\n",
       "    </tr>\n",
       "    <tr>\n",
       "      <th>1</th>\n",
       "      <td>sonu</td>\n",
       "      <td>nuapatana</td>\n",
       "      <td>NIT</td>\n",
       "      <td>4</td>\n",
       "    </tr>\n",
       "    <tr>\n",
       "      <th>2</th>\n",
       "      <td>sim</td>\n",
       "      <td>sarakana</td>\n",
       "      <td>PW</td>\n",
       "      <td>3</td>\n",
       "    </tr>\n",
       "    <tr>\n",
       "      <th>3</th>\n",
       "      <td>sup</td>\n",
       "      <td>nuapatana</td>\n",
       "      <td>NIT</td>\n",
       "      <td>4</td>\n",
       "    </tr>\n",
       "  </tbody>\n",
       "</table>\n",
       "</div>"
      ],
      "text/plain": [
       "   name       home status  id\n",
       "0  swag     jhinti   12th   1\n",
       "1  sonu  nuapatana    NIT   4\n",
       "2   sim   sarakana     PW   3\n",
       "3   sup  nuapatana    NIT   4"
      ]
     },
     "execution_count": 14,
     "metadata": {},
     "output_type": "execute_result"
    }
   ],
   "source": [
    "x=pd.read_csv('frds.csv')\n",
    "x"
   ]
  },
  {
   "cell_type": "code",
   "execution_count": 22,
   "id": "f1f8ef3b",
   "metadata": {},
   "outputs": [],
   "source": [
    "x=['swag', 'sonu', 'sim']\n",
    "def ch(n,l):\n",
    "    if n in l:\n",
    "        print('sss')\n",
    "    else:\n",
    "        print('fgd')"
   ]
  },
  {
   "cell_type": "code",
   "execution_count": 23,
   "id": "e4e96273",
   "metadata": {},
   "outputs": [
    {
     "name": "stdout",
     "output_type": "stream",
     "text": [
      "fgd\n"
     ]
    }
   ],
   "source": [
    "ch('simg',x)"
   ]
  },
  {
   "cell_type": "code",
   "execution_count": 24,
   "id": "c3b6a165",
   "metadata": {},
   "outputs": [
    {
     "name": "stdout",
     "output_type": "stream",
     "text": [
      "fgd\n"
     ]
    }
   ],
   "source": [
    "x = ['swag', 'sonu', 'sim']\n",
    "\n",
    "def ch(n, l):\n",
    "    if n in l:\n",
    "        print('sss')\n",
    "    else:\n",
    "        print('fgd')\n",
    "\n",
    "ch('simuuu', x)\n"
   ]
  },
  {
   "cell_type": "code",
   "execution_count": 1,
   "id": "90553c6a",
   "metadata": {},
   "outputs": [],
   "source": [
    "import numpy as np\n",
    "import pandas as pd"
   ]
  },
  {
   "cell_type": "code",
   "execution_count": 3,
   "id": "0ab147c5",
   "metadata": {},
   "outputs": [
    {
     "data": {
      "text/html": [
       "<div>\n",
       "<style scoped>\n",
       "    .dataframe tbody tr th:only-of-type {\n",
       "        vertical-align: middle;\n",
       "    }\n",
       "\n",
       "    .dataframe tbody tr th {\n",
       "        vertical-align: top;\n",
       "    }\n",
       "\n",
       "    .dataframe thead th {\n",
       "        text-align: right;\n",
       "    }\n",
       "</style>\n",
       "<table border=\"1\" class=\"dataframe\">\n",
       "  <thead>\n",
       "    <tr style=\"text-align: right;\">\n",
       "      <th></th>\n",
       "      <th>name</th>\n",
       "      <th>home</th>\n",
       "      <th>status</th>\n",
       "      <th>id</th>\n",
       "    </tr>\n",
       "  </thead>\n",
       "  <tbody>\n",
       "    <tr>\n",
       "      <th>0</th>\n",
       "      <td>swag</td>\n",
       "      <td>jhinti</td>\n",
       "      <td>12th</td>\n",
       "      <td>1</td>\n",
       "    </tr>\n",
       "    <tr>\n",
       "      <th>1</th>\n",
       "      <td>sonu</td>\n",
       "      <td>nuapatana</td>\n",
       "      <td>NIT</td>\n",
       "      <td>4</td>\n",
       "    </tr>\n",
       "    <tr>\n",
       "      <th>2</th>\n",
       "      <td>sim</td>\n",
       "      <td>sarakana</td>\n",
       "      <td>PW</td>\n",
       "      <td>3</td>\n",
       "    </tr>\n",
       "    <tr>\n",
       "      <th>3</th>\n",
       "      <td>sup</td>\n",
       "      <td>jasuapur</td>\n",
       "      <td>bse</td>\n",
       "      <td>10</td>\n",
       "    </tr>\n",
       "  </tbody>\n",
       "</table>\n",
       "</div>"
      ],
      "text/plain": [
       "   name       home status  id\n",
       "0  swag     jhinti   12th   1\n",
       "1  sonu  nuapatana    NIT   4\n",
       "2   sim   sarakana     PW   3\n",
       "3   sup   jasuapur    bse  10"
      ]
     },
     "execution_count": 3,
     "metadata": {},
     "output_type": "execute_result"
    }
   ],
   "source": [
    "x=pd.read_csv('frds.csv')\n",
    "x"
   ]
  },
  {
   "cell_type": "code",
   "execution_count": 7,
   "id": "7fee9bb8",
   "metadata": {},
   "outputs": [
    {
     "data": {
      "text/plain": [
       "'22nd centuri , parapleg marin dispatch moon pandora uniqu mission , becom torn follow order protect alien civil . action adventur fantasi sciencefict cultureclash futur spacewar spacecoloni societi spacetravel futurist romanc space alien tribe alienplanet cgi marin soldier battl loveaffair antiwar powerrel mindandsoul 3d samworthington zoesaldana sigourneyweav stephenlang jamescameron'"
      ]
     },
     "execution_count": 7,
     "metadata": {},
     "output_type": "execute_result"
    }
   ],
   "source": [
    "y=pd.read_csv('tmdb5kPrePData.csv')\n",
    "y.loc[0,'tags']"
   ]
  },
  {
   "cell_type": "code",
   "execution_count": 11,
   "id": "7ba5c9f2",
   "metadata": {},
   "outputs": [
    {
     "data": {
      "text/plain": [
       "['bannn']"
      ]
     },
     "execution_count": 11,
     "metadata": {},
     "output_type": "execute_result"
    }
   ],
   "source": [
    "x=[{'over':'bannn'},{'gf':'me'}]\n",
    "y=[x[0]['over']]\n",
    "y"
   ]
  },
  {
   "cell_type": "code",
   "execution_count": 12,
   "id": "a934b3a7",
   "metadata": {},
   "outputs": [
    {
     "data": {
      "text/plain": [
       "['sonusahoo', 'supreet']"
      ]
     },
     "execution_count": 12,
     "metadata": {},
     "output_type": "execute_result"
    }
   ],
   "source": [
    "x=['sonu sahoo','sup reet']\n",
    "y=(lambda x:[i.replace(\" \",\"\") for i in x])\n",
    "x=y(x)\n",
    "x"
   ]
  },
  {
   "cell_type": "code",
   "execution_count": 16,
   "id": "a29cffe9",
   "metadata": {},
   "outputs": [
    {
     "data": {
      "text/plain": [
       "['s', 'o', 'n', 'u']"
      ]
     },
     "execution_count": 16,
     "metadata": {},
     "output_type": "execute_result"
    }
   ],
   "source": [
    "x=['s','o']\n",
    "y=['n','u']\n",
    "z=x+y\n",
    "z"
   ]
  },
  {
   "cell_type": "code",
   "execution_count": 17,
   "id": "696c59d5",
   "metadata": {},
   "outputs": [
    {
     "data": {
      "text/plain": [
       "'s o n u'"
      ]
     },
     "execution_count": 17,
     "metadata": {},
     "output_type": "execute_result"
    }
   ],
   "source": [
    "z=' '.join(z)\n",
    "z"
   ]
  },
  {
   "cell_type": "code",
   "execution_count": 9,
   "id": "c7ee679c",
   "metadata": {},
   "outputs": [
    {
     "data": {
      "text/html": [
       "<div>\n",
       "<style scoped>\n",
       "    .dataframe tbody tr th:only-of-type {\n",
       "        vertical-align: middle;\n",
       "    }\n",
       "\n",
       "    .dataframe tbody tr th {\n",
       "        vertical-align: top;\n",
       "    }\n",
       "\n",
       "    .dataframe thead th {\n",
       "        text-align: right;\n",
       "    }\n",
       "</style>\n",
       "<table border=\"1\" class=\"dataframe\">\n",
       "  <thead>\n",
       "    <tr style=\"text-align: right;\">\n",
       "      <th></th>\n",
       "      <th>movie_id</th>\n",
       "      <th>title</th>\n",
       "      <th>tags</th>\n",
       "    </tr>\n",
       "  </thead>\n",
       "  <tbody>\n",
       "    <tr>\n",
       "      <th>4806</th>\n",
       "      <td>872585</td>\n",
       "      <td>Oppenheimer</td>\n",
       "      <td>stori j. robert oppenheim ’ role develop atom ...</td>\n",
       "    </tr>\n",
       "    <tr>\n",
       "      <th>4807</th>\n",
       "      <td>346698</td>\n",
       "      <td>Barbie</td>\n",
       "      <td>barbi ken time live color seemingli perfect wo...</td>\n",
       "    </tr>\n",
       "    <tr>\n",
       "      <th>4808</th>\n",
       "      <td>615656</td>\n",
       "      <td>Meg 2: The Trench</td>\n",
       "      <td>exploratori dive deepest depth ocean dare rese...</td>\n",
       "    </tr>\n",
       "    <tr>\n",
       "      <th>4809</th>\n",
       "      <td>569094</td>\n",
       "      <td>Spider-Man: Across the Spider-Verse</td>\n",
       "      <td>reunit gwen staci , brooklyn ’ full-tim , frie...</td>\n",
       "    </tr>\n",
       "    <tr>\n",
       "      <th>4810</th>\n",
       "      <td>697843</td>\n",
       "      <td>Extraction 2</td>\n",
       "      <td>task extract famili merci georgian gangster , ...</td>\n",
       "    </tr>\n",
       "  </tbody>\n",
       "</table>\n",
       "</div>"
      ],
      "text/plain": [
       "      movie_id                                title  \\\n",
       "4806    872585                          Oppenheimer   \n",
       "4807    346698                               Barbie   \n",
       "4808    615656                    Meg 2: The Trench   \n",
       "4809    569094  Spider-Man: Across the Spider-Verse   \n",
       "4810    697843                         Extraction 2   \n",
       "\n",
       "                                                   tags  \n",
       "4806  stori j. robert oppenheim ’ role develop atom ...  \n",
       "4807  barbi ken time live color seemingli perfect wo...  \n",
       "4808  exploratori dive deepest depth ocean dare rese...  \n",
       "4809  reunit gwen staci , brooklyn ’ full-tim , frie...  \n",
       "4810  task extract famili merci georgian gangster , ...  "
      ]
     },
     "execution_count": 9,
     "metadata": {},
     "output_type": "execute_result"
    }
   ],
   "source": [
    "x=pd.read_csv('tmdb5kPrePData.csv')\n",
    "x.tail()"
   ]
  },
  {
   "cell_type": "code",
   "execution_count": null,
   "id": "e841fc1a",
   "metadata": {},
   "outputs": [],
   "source": []
  }
 ],
 "metadata": {
  "kernelspec": {
   "display_name": "Python 3 (ipykernel)",
   "language": "python",
   "name": "python3"
  },
  "language_info": {
   "codemirror_mode": {
    "name": "ipython",
    "version": 3
   },
   "file_extension": ".py",
   "mimetype": "text/x-python",
   "name": "python",
   "nbconvert_exporter": "python",
   "pygments_lexer": "ipython3",
   "version": "3.11.1"
  }
 },
 "nbformat": 4,
 "nbformat_minor": 5
}
